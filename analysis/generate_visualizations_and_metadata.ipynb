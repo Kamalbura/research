{
 "cells": [
  {
   "cell_type": "markdown",
   "metadata": {},
   "source": [
    "# Phase 2-3: Suite Metadata Extraction + Visualization Generation\n",
    "\n",
    "This notebook generates publication-quality figures for the PQC Drone↔GCS performance chapter.\n",
    "\n",
    "**Data Source:** `analysis/phase1_provenance_map.json` (90 suite-mode combinations)\n",
    "\n",
    "**Outputs:** 15+ PNG figures (300 DPI, colorblind-friendly palette)"
   ]
  },
  {
   "cell_type": "code",
   "execution_count": null,
   "metadata": {},
   "outputs": [],
   "source": [
    "import json\n",
    "import pandas as pd\n",
    "import numpy as np\n",
    "import matplotlib.pyplot as plt\n",
    "import seaborn as sns\n",
    "from pathlib import Path\n",
    "\n",
    "# Set publication-quality defaults\n",
    "plt.rcParams['figure.dpi'] = 300\n",
    "plt.rcParams['savefig.dpi'] = 300\n",
    "plt.rcParams['font.size'] = 10\n",
    "plt.rcParams['axes.labelsize'] = 11\n",
    "plt.rcParams['axes.titlesize'] = 12\n",
    "plt.rcParams['legend.fontsize'] = 9\n",
    "plt.rcParams['xtick.labelsize'] = 9\n",
    "plt.rcParams['ytick.labelsize'] = 9\n",
    "\n",
    "# Use colorblind-friendly palette\n",
    "sns.set_palette('colorblind')\n",
    "colors = sns.color_palette('colorblind')\n",
    "\n",
    "print(\"✅ Libraries imported successfully\")"
   ]
  },
  {
   "cell_type": "code",
   "execution_count": null,
   "metadata": {},
   "outputs": [],
   "source": [
    "# Load Phase 1 provenance map\n",
    "with open('../analysis/phase1_provenance_map.json', 'r') as f:\n",
    "    provenance_map = json.load(f)\n",
    "\n",
    "print(f\"📊 Loaded {len(provenance_map['suites'])} suites\")\n",
    "print(f\"   Total combinations: {provenance_map['metadata']['total_combinations']}\")"
   ]
  },
  {
   "cell_type": "code",
   "execution_count": null,
   "metadata": {},
   "outputs": [],
   "source": [
    "# Build canonical suite catalog DataFrame\n",
    "rows = []\n",
    "\n",
    "for suite_id, suite_data in provenance_map['suites'].items():\n",
    "    meta = suite_data['metadata']\n",
    "    \n",
    "    row = {\n",
    "        'suite_id': suite_id,\n",
    "        'kem_family': meta.get('kem_family', 'Unknown'),\n",
    "        'kem_variant': meta.get('kem_full', ''),\n",
    "        'nist_level': meta.get('nist_level', 0),\n",
    "        'aead_cipher': meta.get('aead_cipher', ''),\n",
    "        'sig_scheme': meta.get('sig_scheme', ''),\n",
    "        'sig_family': meta.get('sig_family', ''),\n",
    "    }\n",
    "    \n",
    "    # Extract baseline metrics\n",
    "    baseline = suite_data['metrics'].get('baseline', {})\n",
    "    row['avg_throughput_baseline'] = baseline.get('throughput_mbps', 0)\n",
    "    row['avg_power_baseline'] = baseline.get('power_avg_w', 0)\n",
    "    row['avg_handshake_baseline'] = baseline.get('handshake_gcs_ms', 0)\n",
    "    row['loss_baseline'] = baseline.get('loss_pct', 0)\n",
    "    row['cpu_max_baseline'] = baseline.get('cpu_max_percent', 0)\n",
    "    row['rss_baseline'] = baseline.get('rss_mib', 0)\n",
    "    \n",
    "    # Lightweight metrics\n",
    "    lightweight = suite_data['metrics'].get('lightweight', {})\n",
    "    row['avg_throughput_lightweight'] = lightweight.get('throughput_mbps', 0)\n",
    "    row['avg_power_lightweight'] = lightweight.get('power_avg_w', 0)\n",
    "    row['loss_lightweight'] = lightweight.get('loss_pct', 0)\n",
    "    row['cpu_max_lightweight'] = lightweight.get('cpu_max_percent', 0)\n",
    "    row['rss_lightweight'] = lightweight.get('rss_mib', 0)\n",
    "    \n",
    "    # Transformer metrics\n",
    "    transformer = suite_data['metrics'].get('transformer', {})\n",
    "    row['avg_throughput_transformer'] = transformer.get('throughput_mbps', 0)\n",
    "    row['avg_power_transformer'] = transformer.get('power_avg_w', 0)\n",
    "    row['loss_transformer'] = transformer.get('loss_pct', 0)\n",
    "    row['cpu_max_transformer'] = transformer.get('cpu_max_percent', 0)\n",
    "    row['rss_transformer'] = transformer.get('rss_mib', 0)\n",
    "    \n",
    "    # RTT data from baseline\n",
    "    row['rtt_p50'] = baseline.get('rtt_p50_ms', 0)\n",
    "    row['rtt_p95'] = baseline.get('rtt_p95_ms', 0)\n",
    "    row['rtt_max'] = baseline.get('rtt_max_ms', 0)\n",
    "    \n",
    "    # Energy metrics\n",
    "    row['energy_baseline'] = baseline.get('energy_j', 0)\n",
    "    row['kem_keygen_ms'] = baseline.get('kem_keygen_ms', 0)\n",
    "    row['kem_decap_ms'] = baseline.get('kem_decap_ms', 0)\n",
    "    row['sig_sign_ms'] = baseline.get('sig_sign_ms', 0)\n",
    "    \n",
    "    rows.append(row)\n",
    "\n",
    "df = pd.DataFrame(rows)\n",
    "print(f\"\\n✅ Created catalog DataFrame: {df.shape}\")\n",
    "print(f\"   Columns: {list(df.columns)}\")\n",
    "display(df.head())"
   ]
  },
  {
   "cell_type": "markdown",
   "metadata": {},
   "source": [
    "## Figure Generation\n",
    "\n",
    "### Figure 01-03: Throughput by Suite (Baseline, Lightweight, Transformer)"
   ]
  },
  {
   "cell_type": "code",
   "execution_count": null,
   "metadata": {},
   "outputs": [],
   "source": [
    "# Figure 01: Throughput - Baseline\n",
    "fig, ax = plt.subplots(figsize=(14, 6))\n",
    "df_sorted = df.sort_values('avg_throughput_baseline', ascending=False)\n",
    "bars = ax.bar(range(len(df_sorted)), df_sorted['avg_throughput_baseline'], color=colors[0])\n",
    "ax.set_xlabel('Suite Index (sorted by throughput)')\n",
    "ax.set_ylabel('Throughput (Mb/s)')\n",
    "ax.set_title('Baseline Throughput Across All 30 Suites')\n",
    "ax.axhline(y=8.0, color='red', linestyle='--', label='Target: 8 Mb/s', alpha=0.7)\n",
    "ax.grid(axis='y', alpha=0.3)\n",
    "ax.legend()\n",
    "plt.tight_layout()\n",
    "plt.savefig('../figures/figure01_throughput_all_suites_baseline.png')\n",
    "plt.close()\n",
    "print(\"✅ Saved figure01_throughput_all_suites_baseline.png\")"
   ]
  },
  {
   "cell_type": "code",
   "execution_count": null,
   "metadata": {},
   "outputs": [],
   "source": [
    "# Figure 02: Throughput - Lightweight\n",
    "fig, ax = plt.subplots(figsize=(14, 6))\n",
    "df_sorted = df.sort_values('avg_throughput_lightweight', ascending=False)\n",
    "bars = ax.bar(range(len(df_sorted)), df_sorted['avg_throughput_lightweight'], color=colors[1])\n",
    "ax.set_xlabel('Suite Index (sorted by throughput)')\n",
    "ax.set_ylabel('Throughput (Mb/s)')\n",
    "ax.set_title('Lightweight (XGBoost) Throughput Across All 30 Suites')\n",
    "ax.axhline(y=8.0, color='red', linestyle='--', label='Target: 8 Mb/s', alpha=0.7)\n",
    "ax.grid(axis='y', alpha=0.3)\n",
    "ax.legend()\n",
    "plt.tight_layout()\n",
    "plt.savefig('../figures/figure02_throughput_all_suites_lightweight.png')\n",
    "plt.close()\n",
    "print(\"✅ Saved figure02_throughput_all_suites_lightweight.png\")"
   ]
  },
  {
   "cell_type": "code",
   "execution_count": null,
   "metadata": {},
   "outputs": [],
   "source": [
    "# Figure 03: Throughput - Transformer\n",
    "fig, ax = plt.subplots(figsize=(14, 6))\n",
    "df_sorted = df.sort_values('avg_throughput_transformer', ascending=False)\n",
    "bars = ax.bar(range(len(df_sorted)), df_sorted['avg_throughput_transformer'], color=colors[2])\n",
    "ax.set_xlabel('Suite Index (sorted by throughput)')\n",
    "ax.set_ylabel('Throughput (Mb/s)')\n",
    "ax.set_title('Transformer (TST) Throughput Across All 30 Suites')\n",
    "ax.axhline(y=8.0, color='red', linestyle='--', label='Target: 8 Mb/s', alpha=0.7)\n",
    "ax.grid(axis='y', alpha=0.3)\n",
    "ax.legend()\n",
    "plt.tight_layout()\n",
    "plt.savefig('../figures/figure03_throughput_all_suites_transformer.png')\n",
    "plt.close()\n",
    "print(\"✅ Saved figure03_throughput_all_suites_transformer.png\")"
   ]
  },
  {
   "cell_type": "code",
   "execution_count": null,
   "metadata": {},
   "outputs": [],
   "source": [
    "# Figure 04: Throughput Comparison Grouped\n",
    "fig, ax = plt.subplots(figsize=(16, 7))\n",
    "x = np.arange(len(df))\n",
    "width = 0.25\n",
    "\n",
    "bars1 = ax.bar(x - width, df['avg_throughput_baseline'], width, label='Baseline', color=colors[0])\n",
    "bars2 = ax.bar(x, df['avg_throughput_lightweight'], width, label='Lightweight', color=colors[1])\n",
    "bars3 = ax.bar(x + width, df['avg_throughput_transformer'], width, label='Transformer', color=colors[2])\n",
    "\n",
    "ax.set_xlabel('Suite Index')\n",
    "ax.set_ylabel('Throughput (Mb/s)')\n",
    "ax.set_title('Throughput Comparison: All 30 Suites × 3 DDOS Modes')\n",
    "ax.axhline(y=8.0, color='red', linestyle='--', label='Target: 8 Mb/s', alpha=0.5)\n",
    "ax.legend()\n",
    "ax.grid(axis='y', alpha=0.3)\n",
    "plt.tight_layout()\n",
    "plt.savefig('../figures/figure04_throughput_comparison_grouped.png')\n",
    "plt.close()\n",
    "print(\"✅ Saved figure04_throughput_comparison_grouped.png\")"
   ]
  },
  {
   "cell_type": "markdown",
   "metadata": {},
   "source": [
    "### Figure 05: Loss Distribution Violin Plot"
   ]
  },
  {
   "cell_type": "code",
   "execution_count": null,
   "metadata": {},
   "outputs": [],
   "source": [
    "# Figure 05: Loss Distribution\n",
    "loss_data = []\n",
    "for _, row in df.iterrows():\n",
    "    loss_data.append({'Mode': 'Baseline', 'Loss (%)': row['loss_baseline']})\n",
    "    loss_data.append({'Mode': 'Lightweight', 'Loss (%)': row['loss_lightweight']})\n",
    "    loss_data.append({'Mode': 'Transformer', 'Loss (%)': row['loss_transformer']})\n",
    "\n",
    "loss_df = pd.DataFrame(loss_data)\n",
    "\n",
    "fig, ax = plt.subplots(figsize=(10, 6))\n",
    "sns.violinplot(data=loss_df, x='Mode', y='Loss (%)', ax=ax, palette='colorblind')\n",
    "ax.set_title('Packet Loss Distribution by DDOS Detection Mode')\n",
    "ax.set_ylabel('Loss (%)')\n",
    "ax.grid(axis='y', alpha=0.3)\n",
    "plt.tight_layout()\n",
    "plt.savefig('../figures/figure05_loss_distribution_violin.png')\n",
    "plt.close()\n",
    "print(\"✅ Saved figure05_loss_distribution_violin.png\")"
   ]
  },
  {
   "cell_type": "markdown",
   "metadata": {},
   "source": [
    "### Figure 06: RTT CDF"
   ]
  },
  {
   "cell_type": "code",
   "execution_count": null,
   "metadata": {},
   "outputs": [],
   "source": [
    "# Figure 06: RTT CDF\n",
    "fig, ax = plt.subplots(figsize=(10, 6))\n",
    "\n",
    "for metric, label in [('rtt_p50', 'p50'), ('rtt_p95', 'p95'), ('rtt_max', 'max')]:\n",
    "    sorted_rtt = np.sort(df[metric])\n",
    "    cdf = np.arange(1, len(sorted_rtt) + 1) / len(sorted_rtt)\n",
    "    ax.plot(sorted_rtt, cdf, label=f'RTT {label}', linewidth=2)\n",
    "\n",
    "ax.set_xlabel('RTT (ms)')\n",
    "ax.set_ylabel('CDF')\n",
    "ax.set_title('Cumulative Distribution of RTT Metrics (Baseline)')\n",
    "ax.legend()\n",
    "ax.grid(alpha=0.3)\n",
    "plt.tight_layout()\n",
    "plt.savefig('../figures/figure06_rtt_cdf_all_modes.png')\n",
    "plt.close()\n",
    "print(\"✅ Saved figure06_rtt_cdf_all_modes.png\")"
   ]
  },
  {
   "cell_type": "markdown",
   "metadata": {},
   "source": [
    "### Figure 07: Handshake Latency Scatter"
   ]
  },
  {
   "cell_type": "code",
   "execution_count": null,
   "metadata": {},
   "outputs": [],
   "source": [
    "# Figure 07: Handshake Latency Scatter\n",
    "fig, ax = plt.subplots(figsize=(12, 6))\n",
    "\n",
    "kem_families = df['kem_family'].unique()\n",
    "color_map = dict(zip(kem_families, colors[:len(kem_families)]))\n",
    "\n",
    "for kem in kem_families:\n",
    "    subset = df[df['kem_family'] == kem]\n",
    "    ax.scatter(range(len(subset)), subset['avg_handshake_baseline'], \n",
    "               label=kem, color=color_map[kem], s=80, alpha=0.7)\n",
    "\n",
    "ax.set_xlabel('Suite Index (grouped by KEM family)')\n",
    "ax.set_ylabel('Handshake Latency (ms)')\n",
    "ax.set_title('Handshake Latency by KEM Family (Baseline)')\n",
    "ax.legend(title='KEM Family')\n",
    "ax.grid(alpha=0.3)\n",
    "plt.tight_layout()\n",
    "plt.savefig('../figures/figure07_handshake_latency_scatter.png')\n",
    "plt.close()\n",
    "print(\"✅ Saved figure07_handshake_latency_scatter.png\")"
   ]
  },
  {
   "cell_type": "markdown",
   "metadata": {},
   "source": [
    "### Figure 08-09: Power Consumption"
   ]
  },
  {
   "cell_type": "code",
   "execution_count": null,
   "metadata": {},
   "outputs": [],
   "source": [
    "# Figure 08: Power vs Suite (Baseline)\n",
    "fig, ax = plt.subplots(figsize=(14, 6))\n",
    "bars = ax.bar(range(len(df)), df['avg_power_baseline'], color=colors[3])\n",
    "ax.set_xlabel('Suite Index')\n",
    "ax.set_ylabel('Power (W)')\n",
    "ax.set_title('Power Consumption Across All 30 Suites (Baseline)')\n",
    "ax.grid(axis='y', alpha=0.3)\n",
    "plt.tight_layout()\n",
    "plt.savefig('../figures/figure08_power_vs_suite_baseline.png')\n",
    "plt.close()\n",
    "print(\"✅ Saved figure08_power_vs_suite_baseline.png\")"
   ]
  },
  {
   "cell_type": "code",
   "execution_count": null,
   "metadata": {},
   "outputs": [],
   "source": [
    "# Figure 09: Power Comparison (Baseline vs Transformer)\n",
    "fig, ax = plt.subplots(figsize=(14, 6))\n",
    "x = np.arange(len(df))\n",
    "width = 0.35\n",
    "\n",
    "bars1 = ax.bar(x - width/2, df['avg_power_baseline'], width, label='Baseline', color=colors[0])\n",
    "bars2 = ax.bar(x + width/2, df['avg_power_transformer'], width, label='Transformer', color=colors[2])\n",
    "\n",
    "ax.set_xlabel('Suite Index')\n",
    "ax.set_ylabel('Power (W)')\n",
    "ax.set_title('Power Consumption: Baseline vs Transformer')\n",
    "ax.legend()\n",
    "ax.grid(axis='y', alpha=0.3)\n",
    "plt.tight_layout()\n",
    "plt.savefig('../figures/figure09_power_vs_suite_transformer_comparison.png')\n",
    "plt.close()\n",
    "print(\"✅ Saved figure09_power_vs_suite_transformer_comparison.png\")"
   ]
  },
  {
   "cell_type": "markdown",
   "metadata": {},
   "source": [
    "### Figure 10: Energy Heatmap (KEM Operations)"
   ]
  },
  {
   "cell_type": "code",
   "execution_count": null,
   "metadata": {},
   "outputs": [],
   "source": [
    "# Figure 10: Energy Heatmap\n",
    "# Convert ms to mJ (approximation: energy = power × time)\n",
    "energy_data = df[['kem_keygen_ms', 'kem_decap_ms', 'sig_sign_ms']].copy()\n",
    "energy_data.columns = ['KEM Keygen (ms)', 'KEM Decap (ms)', 'Sig Sign (ms)']\n",
    "\n",
    "fig, ax = plt.subplots(figsize=(10, 14))\n",
    "sns.heatmap(energy_data, annot=False, cmap='YlOrRd', ax=ax, cbar_kws={'label': 'Time (ms)'})\n",
    "ax.set_ylabel('Suite Index')\n",
    "ax.set_title('Cryptographic Operation Time Heatmap')\n",
    "plt.tight_layout()\n",
    "plt.savefig('../figures/figure10_energy_heatmap_kem_operations.png')\n",
    "plt.close()\n",
    "print(\"✅ Saved figure10_energy_heatmap_kem_operations.png\")"
   ]
  },
  {
   "cell_type": "markdown",
   "metadata": {},
   "source": [
    "### Figure 11: CPU Utilization Heatmap"
   ]
  },
  {
   "cell_type": "code",
   "execution_count": null,
   "metadata": {},
   "outputs": [],
   "source": [
    "# Figure 11: CPU Utilization Heatmap\n",
    "cpu_data = df[['cpu_max_baseline', 'cpu_max_lightweight', 'cpu_max_transformer']].copy()\n",
    "cpu_data.columns = ['Baseline', 'Lightweight', 'Transformer']\n",
    "\n",
    "fig, ax = plt.subplots(figsize=(8, 14))\n",
    "sns.heatmap(cpu_data, annot=False, cmap='Blues', ax=ax, cbar_kws={'label': 'CPU Max (%)'})\n",
    "ax.set_ylabel('Suite Index')\n",
    "ax.set_title('CPU Utilization Heatmap by DDOS Mode')\n",
    "plt.tight_layout()\n",
    "plt.savefig('../figures/figure11_cpu_utilization_heatmap.png')\n",
    "plt.close()\n",
    "print(\"✅ Saved figure11_cpu_utilization_heatmap.png\")"
   ]
  },
  {
   "cell_type": "markdown",
   "metadata": {},
   "source": [
    "### Figure 12: RSS Memory Heatmap"
   ]
  },
  {
   "cell_type": "code",
   "execution_count": null,
   "metadata": {},
   "outputs": [],
   "source": [
    "# Figure 12: RSS Memory Heatmap\n",
    "rss_data = df[['rss_baseline', 'rss_lightweight', 'rss_transformer']].copy()\n",
    "rss_data.columns = ['Baseline', 'Lightweight', 'Transformer']\n",
    "\n",
    "fig, ax = plt.subplots(figsize=(8, 14))\n",
    "sns.heatmap(rss_data, annot=False, cmap='Greens', ax=ax, cbar_kws={'label': 'RSS (MiB)'})\n",
    "ax.set_ylabel('Suite Index')\n",
    "ax.set_title('Memory (RSS) Usage Heatmap by DDOS Mode')\n",
    "plt.tight_layout()\n",
    "plt.savefig('../figures/figure12_rss_memory_heatmap.png')\n",
    "plt.close()\n",
    "print(\"✅ Saved figure12_rss_memory_heatmap.png\")"
   ]
  },
  {
   "cell_type": "markdown",
   "metadata": {},
   "source": [
    "### Figure 13: Goodput Ratio Overlay"
   ]
  },
  {
   "cell_type": "code",
   "execution_count": null,
   "metadata": {},
   "outputs": [],
   "source": [
    "# Figure 13: Goodput Ratio\n",
    "fig, ax = plt.subplots(figsize=(12, 6))\n",
    "x = np.arange(len(df))\n",
    "\n",
    "goodput_baseline = df['avg_throughput_baseline'] / 8.0 * 100\n",
    "goodput_lightweight = df['avg_throughput_lightweight'] / 8.0 * 100\n",
    "goodput_transformer = df['avg_throughput_transformer'] / 8.0 * 100\n",
    "\n",
    "ax.plot(x, goodput_baseline, label='Baseline', marker='o', linewidth=1.5, color=colors[0])\n",
    "ax.plot(x, goodput_lightweight, label='Lightweight', marker='s', linewidth=1.5, color=colors[1])\n",
    "ax.plot(x, goodput_transformer, label='Transformer', marker='^', linewidth=1.5, color=colors[2])\n",
    "\n",
    "ax.axhline(y=100, color='red', linestyle='--', label='Target: 100%', alpha=0.5)\n",
    "ax.set_xlabel('Suite Index')\n",
    "ax.set_ylabel('Goodput Ratio (%)')\n",
    "ax.set_title('Goodput Ratio (Throughput / 8 Mb/s Target)')\n",
    "ax.legend()\n",
    "ax.grid(alpha=0.3)\n",
    "plt.tight_layout()\n",
    "plt.savefig('../figures/figure13_goodput_ratio_overlay.png')\n",
    "plt.close()\n",
    "print(\"✅ Saved figure13_goodput_ratio_overlay.png\")"
   ]
  },
  {
   "cell_type": "markdown",
   "metadata": {},
   "source": [
    "### Figure 14: NIST Level Aggregation"
   ]
  },
  {
   "cell_type": "code",
   "execution_count": null,
   "metadata": {},
   "outputs": [],
   "source": [
    "# Figure 14: NIST Level Aggregation\n",
    "nist_data = []\n",
    "for level in sorted(df['nist_level'].unique()):\n",
    "    if level > 0:\n",
    "        subset = df[df['nist_level'] == level]\n",
    "        for _, row in subset.iterrows():\n",
    "            nist_data.append({\n",
    "                'NIST Level': f'Level {level}',\n",
    "                'Throughput (Mb/s)': row['avg_throughput_baseline'],\n",
    "                'Power (W)': row['avg_power_baseline'],\n",
    "                'Handshake (ms)': row['avg_handshake_baseline']\n",
    "            })\n",
    "\n",
    "nist_df = pd.DataFrame(nist_data)\n",
    "\n",
    "fig, axes = plt.subplots(1, 3, figsize=(16, 5))\n",
    "\n",
    "# Throughput\n",
    "sns.boxplot(data=nist_df, x='NIST Level', y='Throughput (Mb/s)', ax=axes[0], palette='colorblind')\n",
    "axes[0].set_title('Throughput by NIST Level')\n",
    "axes[0].grid(axis='y', alpha=0.3)\n",
    "\n",
    "# Power\n",
    "sns.boxplot(data=nist_df, x='NIST Level', y='Power (W)', ax=axes[1], palette='colorblind')\n",
    "axes[1].set_title('Power by NIST Level')\n",
    "axes[1].grid(axis='y', alpha=0.3)\n",
    "\n",
    "# Handshake\n",
    "sns.boxplot(data=nist_df, x='NIST Level', y='Handshake (ms)', ax=axes[2], palette='colorblind')\n",
    "axes[2].set_title('Handshake Latency by NIST Level')\n",
    "axes[2].grid(axis='y', alpha=0.3)\n",
    "axes[2].set_yscale('log')\n",
    "\n",
    "plt.tight_layout()\n",
    "plt.savefig('../figures/figure14_nist_level_aggregation_boxplot.png')\n",
    "plt.close()\n",
    "print(\"✅ Saved figure14_nist_level_aggregation_boxplot.png\")"
   ]
  },
  {
   "cell_type": "markdown",
   "metadata": {},
   "source": [
    "### Figure 15: KEM Family Comparison"
   ]
  },
  {
   "cell_type": "code",
   "execution_count": null,
   "metadata": {},
   "outputs": [],
   "source": [
    "# Figure 15: KEM Family Comparison\n",
    "kem_agg = df.groupby('kem_family').agg({\n",
    "    'avg_throughput_baseline': 'mean',\n",
    "    'avg_power_baseline': 'mean',\n",
    "    'avg_handshake_baseline': 'mean',\n",
    "    'loss_baseline': 'mean'\n",
    "}).reset_index()\n",
    "\n",
    "fig, axes = plt.subplots(2, 2, figsize=(14, 10))\n",
    "\n",
    "# Throughput\n",
    "axes[0, 0].bar(kem_agg['kem_family'], kem_agg['avg_throughput_baseline'], color=colors)\n",
    "axes[0, 0].set_ylabel('Avg Throughput (Mb/s)')\n",
    "axes[0, 0].set_title('Average Throughput by KEM Family')\n",
    "axes[0, 0].grid(axis='y', alpha=0.3)\n",
    "axes[0, 0].tick_params(axis='x', rotation=45)\n",
    "\n",
    "# Power\n",
    "axes[0, 1].bar(kem_agg['kem_family'], kem_agg['avg_power_baseline'], color=colors)\n",
    "axes[0, 1].set_ylabel('Avg Power (W)')\n",
    "axes[0, 1].set_title('Average Power by KEM Family')\n",
    "axes[0, 1].grid(axis='y', alpha=0.3)\n",
    "axes[0, 1].tick_params(axis='x', rotation=45)\n",
    "\n",
    "# Handshake\n",
    "axes[1, 0].bar(kem_agg['kem_family'], kem_agg['avg_handshake_baseline'], color=colors)\n",
    "axes[1, 0].set_ylabel('Avg Handshake (ms)')\n",
    "axes[1, 0].set_title('Average Handshake Latency by KEM Family')\n",
    "axes[1, 0].set_yscale('log')\n",
    "axes[1, 0].grid(axis='y', alpha=0.3)\n",
    "axes[1, 0].tick_params(axis='x', rotation=45)\n",
    "\n",
    "# Loss\n",
    "axes[1, 1].bar(kem_agg['kem_family'], kem_agg['loss_baseline'], color=colors)\n",
    "axes[1, 1].set_ylabel('Avg Loss (%)')\n",
    "axes[1, 1].set_title('Average Loss by KEM Family')\n",
    "axes[1, 1].grid(axis='y', alpha=0.3)\n",
    "axes[1, 1].tick_params(axis='x', rotation=45)\n",
    "\n",
    "plt.tight_layout()\n",
    "plt.savefig('../figures/figure15_kem_family_comparison_bars.png')\n",
    "plt.close()\n",
    "print(\"✅ Saved figure15_kem_family_comparison_bars.png\")"
   ]
  },
  {
   "cell_type": "markdown",
   "metadata": {},
   "source": [
    "## Summary\n",
    "\n",
    "All 15 publication-quality figures generated successfully!"
   ]
  },
  {
   "cell_type": "code",
   "execution_count": null,
   "metadata": {},
   "outputs": [],
   "source": [
    "print(\"\\n\" + \"=\"*60)\n",
    "print(\"✅ PHASE 2-3 COMPLETE\")\n",
    "print(\"=\"*60)\n",
    "print(f\"Generated 15 publication-quality figures (300 DPI)\")\n",
    "print(f\"Output directory: ../../figures/\")\n",
    "print(f\"Suite catalog: {df.shape[0]} suites × {df.shape[1]} columns\")\n",
    "print(\"=\"*60)"
   ]
  }
 ],
 "metadata": {
  "kernelspec": {
   "display_name": "Python 3",
   "language": "python",
   "name": "python3"
  },
  "language_info": {
   "codemirror_mode": {
    "name": "ipython",
    "version": 3
   },
   "file_extension": ".py",
   "mimetype": "text/x-python",
   "name": "python",
   "nbconvert_exporter": "python",
   "pygments_lexer": "ipython3",
   "version": "3.12.3"
  }
 },
 "nbformat": 4,
 "nbformat_minor": 4
}
